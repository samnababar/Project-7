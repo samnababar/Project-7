{
  "nbformat": 4,
  "nbformat_minor": 0,
  "metadata": {
    "colab": {
      "provenance": []
    },
    "kernelspec": {
      "name": "python3",
      "display_name": "Python 3"
    },
    "language_info": {
      "name": "python"
    }
  },
  "cells": [
    {
      "cell_type": "code",
      "execution_count": 1,
      "metadata": {
        "colab": {
          "base_uri": "https://localhost:8080/"
        },
        "id": "ucU0ihljniFg",
        "outputId": "e32fa3ea-e4f5-42a3-f8b4-c17269afc116"
      },
      "outputs": [
        {
          "output_type": "stream",
          "name": "stdout",
          "text": [
            "🔐 PYTHON PASSWORD GENERATOR 🔐\n",
            "-----------------------------\n",
            "How many passwords do you need? sammnababar\n",
            "Invalid input! Please enter numbers only.\n",
            "How many passwords do you need? 5\n",
            "Length of each password? 9\n",
            "\n",
            "Generated Passwords:\n",
            "------------------\n",
            "1. %q2b&Hu?$\n",
            "2. ;r<DP8G7F\n",
            "3. $OtWH]hs_\n",
            "4. Cg'BTc2X-\n",
            "5. H7@Vu0CHn\n",
            "\n",
            "Copy first password to clipboard? (y/n): 1. %q2b&Hu?$\n",
            "\n",
            "Generate more passwords? (y/n): n\n",
            "Thanks for using the password generator!\n"
          ]
        }
      ],
      "source": [
        "import random\n",
        "import string\n",
        "\n",
        "def generate_password(length):\n",
        "    \"\"\"Generate a single random password\"\"\"\n",
        "    characters = string.ascii_letters + string.digits + string.punctuation\n",
        "    password = ''.join(random.choice(characters) for _ in range(length))\n",
        "    return password\n",
        "\n",
        "def password_generator():\n",
        "    \"\"\"Main function to run the password generator\"\"\"\n",
        "    print(\"🔐 PYTHON PASSWORD GENERATOR 🔐\")\n",
        "    print(\"-----------------------------\")\n",
        "\n",
        "    # Get user input\n",
        "    while True:\n",
        "        try:\n",
        "            num_passwords = int(input(\"How many passwords do you need? \"))\n",
        "            length = int(input(\"Length of each password? \"))\n",
        "            if num_passwords <= 0 or length <= 0:\n",
        "                print(\"Please enter positive numbers!\")\n",
        "                continue\n",
        "            break\n",
        "        except ValueError:\n",
        "            print(\"Invalid input! Please enter numbers only.\")\n",
        "\n",
        "    # Generate passwords\n",
        "    print(\"\\nGenerated Passwords:\")\n",
        "    print(\"------------------\")\n",
        "    for i in range(1, num_passwords + 1):\n",
        "        password = generate_password(length)\n",
        "        print(f\"{i}. {password}\")\n",
        "\n",
        "    # Copy to clipboard option (optional)\n",
        "    try:\n",
        "        import pyperclip\n",
        "        choice = input(\"\\nCopy first password to clipboard? (y/n): \").lower()\n",
        "        if choice == 'y':\n",
        "            pyperclip.copy(password)\n",
        "            print(\"✔ Password copied to clipboard!\")\n",
        "    except ImportError:\n",
        "        pass\n",
        "\n",
        "# Run the generator\n",
        "password_generator()\n",
        "\n",
        "# Optional: Add repeat functionality\n",
        "while True:\n",
        "    repeat = input(\"\\nGenerate more passwords? (y/n): \").lower()\n",
        "    if repeat == 'y':\n",
        "        password_generator()\n",
        "    elif repeat == 'n':\n",
        "        print(\"Thanks for using the password generator!\")\n",
        "        break\n",
        "    else:\n",
        "        print(\"Please enter 'y' or 'n'.\")"
      ]
    }
  ]
}